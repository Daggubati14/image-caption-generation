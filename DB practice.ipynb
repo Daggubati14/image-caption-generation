{
 "cells": [
  {
   "cell_type": "code",
   "execution_count": 1,
   "metadata": {},
   "outputs": [],
   "source": [
    "import mysql.connector\n",
    "from mysql.connector import Error\n",
    "import pandas as pd\n",
    "import os\n",
    "import numpy as np"
   ]
  },
  {
   "cell_type": "code",
   "execution_count": 4,
   "metadata": {},
   "outputs": [],
   "source": [
    "data=pd.read_excel(\"C:\\\\Users\\\\91868\\\\Desktop\\\\Hari Data science\\\\C7-20200526T134159Z-001\\\\project1\\\\Data_excel_after_missing_values.xlsx\", keep_default_na=False, na_values = ['','#N/A', '#N/A N/A', '#NA', '-1.#IND', '-1.#QNAN', '-NaN', '-nan','1.#IND', '1.#QNAN', 'N/A', 'NULL', 'NaN', 'n/a', 'nan','null'])"
   ]
  },
  {
   "cell_type": "code",
   "execution_count": 5,
   "metadata": {},
   "outputs": [
    {
     "data": {
      "text/plain": [
       "(14247, 70)"
      ]
     },
     "execution_count": 5,
     "metadata": {},
     "output_type": "execute_result"
    }
   ],
   "source": [
    "data.shape"
   ]
  },
  {
   "cell_type": "code",
   "execution_count": 6,
   "metadata": {},
   "outputs": [
    {
     "data": {
      "text/html": [
       "<div>\n",
       "<style scoped>\n",
       "    .dataframe tbody tr th:only-of-type {\n",
       "        vertical-align: middle;\n",
       "    }\n",
       "\n",
       "    .dataframe tbody tr th {\n",
       "        vertical-align: top;\n",
       "    }\n",
       "\n",
       "    .dataframe thead th {\n",
       "        text-align: right;\n",
       "    }\n",
       "</style>\n",
       "<table border=\"1\" class=\"dataframe\">\n",
       "  <thead>\n",
       "    <tr style=\"text-align: right;\">\n",
       "      <th></th>\n",
       "      <th>Unnamed: 0</th>\n",
       "      <th>Customer_Id</th>\n",
       "      <th>Classification</th>\n",
       "      <th>Region</th>\n",
       "      <th>Primary_industry</th>\n",
       "      <th>Product_purchased</th>\n",
       "      <th>No.of transactions</th>\n",
       "      <th>Revenue</th>\n",
       "      <th>Recent_transaction_in_days</th>\n",
       "      <th>Employees_Total</th>\n",
       "      <th>...</th>\n",
       "      <th>Product_55</th>\n",
       "      <th>Product_56</th>\n",
       "      <th>Product_57</th>\n",
       "      <th>Product_58</th>\n",
       "      <th>Product_6</th>\n",
       "      <th>Product_7</th>\n",
       "      <th>Product_8</th>\n",
       "      <th>Product_9</th>\n",
       "      <th>status</th>\n",
       "      <th>Revenue_P29</th>\n",
       "    </tr>\n",
       "  </thead>\n",
       "  <tbody>\n",
       "    <tr>\n",
       "      <th>0</th>\n",
       "      <td>0</td>\n",
       "      <td>Customer_ID_1351</td>\n",
       "      <td>Diamond</td>\n",
       "      <td>APJ</td>\n",
       "      <td>Public Administration</td>\n",
       "      <td>12</td>\n",
       "      <td>30</td>\n",
       "      <td>2.852616e+06</td>\n",
       "      <td>639</td>\n",
       "      <td>0</td>\n",
       "      <td>...</td>\n",
       "      <td>0</td>\n",
       "      <td>0</td>\n",
       "      <td>0</td>\n",
       "      <td>0</td>\n",
       "      <td>1</td>\n",
       "      <td>0</td>\n",
       "      <td>0</td>\n",
       "      <td>0</td>\n",
       "      <td>1</td>\n",
       "      <td>1.132087e+06</td>\n",
       "    </tr>\n",
       "    <tr>\n",
       "      <th>1</th>\n",
       "      <td>1</td>\n",
       "      <td>Customer_ID_1526</td>\n",
       "      <td>Large-Existing</td>\n",
       "      <td>APJ</td>\n",
       "      <td>Finance, Insurance, And Real Estate</td>\n",
       "      <td>13</td>\n",
       "      <td>23</td>\n",
       "      <td>1.512550e+05</td>\n",
       "      <td>456</td>\n",
       "      <td>239756</td>\n",
       "      <td>...</td>\n",
       "      <td>0</td>\n",
       "      <td>0</td>\n",
       "      <td>1</td>\n",
       "      <td>0</td>\n",
       "      <td>0</td>\n",
       "      <td>0</td>\n",
       "      <td>1</td>\n",
       "      <td>0</td>\n",
       "      <td>1</td>\n",
       "      <td>NaN</td>\n",
       "    </tr>\n",
       "    <tr>\n",
       "      <th>2</th>\n",
       "      <td>2</td>\n",
       "      <td>Customer_ID_1533</td>\n",
       "      <td>Gold</td>\n",
       "      <td>APJ</td>\n",
       "      <td>Public Administration</td>\n",
       "      <td>16</td>\n",
       "      <td>43</td>\n",
       "      <td>3.202815e+06</td>\n",
       "      <td>274</td>\n",
       "      <td>795</td>\n",
       "      <td>...</td>\n",
       "      <td>0</td>\n",
       "      <td>0</td>\n",
       "      <td>1</td>\n",
       "      <td>0</td>\n",
       "      <td>1</td>\n",
       "      <td>0</td>\n",
       "      <td>0</td>\n",
       "      <td>0</td>\n",
       "      <td>1</td>\n",
       "      <td>6.957714e+04</td>\n",
       "    </tr>\n",
       "    <tr>\n",
       "      <th>3</th>\n",
       "      <td>3</td>\n",
       "      <td>Customer_ID_1654</td>\n",
       "      <td>Diamond</td>\n",
       "      <td>EMEA</td>\n",
       "      <td>Public Administration</td>\n",
       "      <td>15</td>\n",
       "      <td>44</td>\n",
       "      <td>5.527933e+05</td>\n",
       "      <td>91</td>\n",
       "      <td>300</td>\n",
       "      <td>...</td>\n",
       "      <td>0</td>\n",
       "      <td>0</td>\n",
       "      <td>1</td>\n",
       "      <td>0</td>\n",
       "      <td>1</td>\n",
       "      <td>0</td>\n",
       "      <td>0</td>\n",
       "      <td>0</td>\n",
       "      <td>1</td>\n",
       "      <td>NaN</td>\n",
       "    </tr>\n",
       "    <tr>\n",
       "      <th>4</th>\n",
       "      <td>4</td>\n",
       "      <td>Customer_ID_1264</td>\n",
       "      <td>Gold</td>\n",
       "      <td>APJ</td>\n",
       "      <td>Manufacturing</td>\n",
       "      <td>3</td>\n",
       "      <td>3</td>\n",
       "      <td>0.000000e+00</td>\n",
       "      <td>183</td>\n",
       "      <td>8907</td>\n",
       "      <td>...</td>\n",
       "      <td>0</td>\n",
       "      <td>0</td>\n",
       "      <td>0</td>\n",
       "      <td>0</td>\n",
       "      <td>1</td>\n",
       "      <td>0</td>\n",
       "      <td>0</td>\n",
       "      <td>0</td>\n",
       "      <td>1</td>\n",
       "      <td>NaN</td>\n",
       "    </tr>\n",
       "  </tbody>\n",
       "</table>\n",
       "<p>5 rows × 70 columns</p>\n",
       "</div>"
      ],
      "text/plain": [
       "   Unnamed: 0       Customer_Id  Classification Region  \\\n",
       "0           0  Customer_ID_1351         Diamond    APJ   \n",
       "1           1  Customer_ID_1526  Large-Existing    APJ   \n",
       "2           2  Customer_ID_1533            Gold    APJ   \n",
       "3           3  Customer_ID_1654         Diamond   EMEA   \n",
       "4           4  Customer_ID_1264            Gold    APJ   \n",
       "\n",
       "                      Primary_industry  Product_purchased  No.of transactions  \\\n",
       "0                Public Administration                 12                  30   \n",
       "1  Finance, Insurance, And Real Estate                 13                  23   \n",
       "2                Public Administration                 16                  43   \n",
       "3                Public Administration                 15                  44   \n",
       "4                        Manufacturing                  3                   3   \n",
       "\n",
       "        Revenue  Recent_transaction_in_days  Employees_Total  ...  Product_55  \\\n",
       "0  2.852616e+06                         639                0  ...           0   \n",
       "1  1.512550e+05                         456           239756  ...           0   \n",
       "2  3.202815e+06                         274              795  ...           0   \n",
       "3  5.527933e+05                          91              300  ...           0   \n",
       "4  0.000000e+00                         183             8907  ...           0   \n",
       "\n",
       "   Product_56  Product_57  Product_58  Product_6  Product_7  Product_8  \\\n",
       "0           0           0           0          1          0          0   \n",
       "1           0           1           0          0          0          1   \n",
       "2           0           1           0          1          0          0   \n",
       "3           0           1           0          1          0          0   \n",
       "4           0           0           0          1          0          0   \n",
       "\n",
       "   Product_9  status   Revenue_P29  \n",
       "0          0       1  1.132087e+06  \n",
       "1          0       1           NaN  \n",
       "2          0       1  6.957714e+04  \n",
       "3          0       1           NaN  \n",
       "4          0       1           NaN  \n",
       "\n",
       "[5 rows x 70 columns]"
      ]
     },
     "execution_count": 6,
     "metadata": {},
     "output_type": "execute_result"
    }
   ],
   "source": [
    "data.head()"
   ]
  },
  {
   "cell_type": "code",
   "execution_count": 12,
   "metadata": {},
   "outputs": [],
   "source": [
    "connection = mysql.connector.connect(host='127.0.0.1',user='root',password='admin')"
   ]
  },
  {
   "cell_type": "code",
   "execution_count": 13,
   "metadata": {},
   "outputs": [
    {
     "name": "stdout",
     "output_type": "stream",
     "text": [
      "<mysql.connector.connection.MySQLConnection object at 0x000001EEA7C6EC18>\n"
     ]
    }
   ],
   "source": [
    "print(connection)"
   ]
  },
  {
   "cell_type": "code",
   "execution_count": 14,
   "metadata": {},
   "outputs": [
    {
     "data": {
      "text/plain": [
       "'8.0.17'"
      ]
     },
     "execution_count": 14,
     "metadata": {},
     "output_type": "execute_result"
    }
   ],
   "source": [
    "connection.get_server_info()"
   ]
  },
  {
   "cell_type": "code",
   "execution_count": 15,
   "metadata": {},
   "outputs": [],
   "source": [
    "mycursor = connection.cursor()"
   ]
  },
  {
   "cell_type": "code",
   "execution_count": 16,
   "metadata": {},
   "outputs": [
    {
     "name": "stdout",
     "output_type": "stream",
     "text": [
      "('information_schema',)\n",
      "('mysql',)\n",
      "('performance_schema',)\n",
      "('project1',)\n",
      "('sys',)\n"
     ]
    }
   ],
   "source": [
    "mycursor.execute(\"SHOW DATABASES\")\n",
    "\n",
    "for x in mycursor:\n",
    "    print(x)"
   ]
  },
  {
   "cell_type": "code",
   "execution_count": 34,
   "metadata": {},
   "outputs": [],
   "source": [
    "connection = mysql.connector.connect(host='127.0.0.1',user='root',password='admin',database = 'project1')\n",
    "\n",
    "mycursor = connection.cursor()"
   ]
  },
  {
   "cell_type": "code",
   "execution_count": 31,
   "metadata": {},
   "outputs": [
    {
     "name": "stdout",
     "output_type": "stream",
     "text": [
      "('data1',)\n",
      "('data_after_missing_values',)\n"
     ]
    }
   ],
   "source": [
    "mycursor.execute(\"SHOW tables\")\n",
    "\n",
    "for x in mycursor:\n",
    "    print(x)"
   ]
  },
  {
   "cell_type": "code",
   "execution_count": 32,
   "metadata": {},
   "outputs": [],
   "source": [
    "t1 = mycursor.execute(\"select * from data_after_missing_values\")"
   ]
  },
  {
   "cell_type": "code",
   "execution_count": 33,
   "metadata": {},
   "outputs": [],
   "source": [
    "t1"
   ]
  },
  {
   "cell_type": "code",
   "execution_count": 35,
   "metadata": {},
   "outputs": [],
   "source": [
    "mycursor.execute(''' show columns from data_after_missing_values''')"
   ]
  },
  {
   "cell_type": "code",
   "execution_count": 36,
   "metadata": {},
   "outputs": [
    {
     "data": {
      "text/plain": [
       "[('Customer_Id', 'varchar(20)', 'NO', 'PRI', None, ''),\n",
       " ('Classification', 'varchar(25)', 'NO', '', None, ''),\n",
       " ('Region', 'varchar(25)', 'NO', '', None, ''),\n",
       " ('Primary_industry', 'varchar(25)', 'NO', '', None, ''),\n",
       " ('Products_purchased', 'int(5)', 'NO', '', None, ''),\n",
       " ('No_of_transactions', 'int(10)', 'NO', '', None, '')]"
      ]
     },
     "execution_count": 36,
     "metadata": {},
     "output_type": "execute_result"
    }
   ],
   "source": [
    "mycursor.fetchall()"
   ]
  },
  {
   "cell_type": "code",
   "execution_count": 39,
   "metadata": {},
   "outputs": [
    {
     "name": "stdout",
     "output_type": "stream",
     "text": [
      "   fruits   drinks\n",
      "0   mango  thumsup\n",
      "1  banana    sprit\n",
      "2   apple    slice\n"
     ]
    }
   ],
   "source": [
    "fruits = ['mango','banana','apple']\n",
    "drinks = ['thumsup','sprit','slice']\n",
    "check = pd.DataFrame(list(zip(fruits, drinks)), columns =['fruits', 'drinks'])\n",
    "\n",
    "print(check)"
   ]
  },
  {
   "cell_type": "code",
   "execution_count": 40,
   "metadata": {},
   "outputs": [],
   "source": [
    "connection = mysql.connector.connect(host='127.0.0.1',user='root',password='admin')\n",
    "\n",
    "mycursor = connection.cursor()"
   ]
  },
  {
   "cell_type": "code",
   "execution_count": 41,
   "metadata": {},
   "outputs": [],
   "source": [
    "mycursor.execute(\"CREATE DATABASE check_db\")"
   ]
  },
  {
   "cell_type": "code",
   "execution_count": 43,
   "metadata": {},
   "outputs": [],
   "source": [
    "connection = mysql.connector.connect(host='127.0.0.1',user='root',password='admin',database = 'check_db')\n",
    "\n",
    "mycursor = connection.cursor()"
   ]
  },
  {
   "cell_type": "code",
   "execution_count": 44,
   "metadata": {},
   "outputs": [],
   "source": [
    "mycursor.execute(\"CREATE TABLE check1 (fruits VARCHAR(255), drinks VARCHAR(255))\")"
   ]
  },
  {
   "cell_type": "code",
   "execution_count": 45,
   "metadata": {},
   "outputs": [],
   "source": [
    "mycursor.execute('show tables')"
   ]
  },
  {
   "cell_type": "code",
   "execution_count": 46,
   "metadata": {},
   "outputs": [
    {
     "data": {
      "text/plain": [
       "[('check1',)]"
      ]
     },
     "execution_count": 46,
     "metadata": {},
     "output_type": "execute_result"
    }
   ],
   "source": [
    "mycursor.fetchall()"
   ]
  },
  {
   "cell_type": "code",
   "execution_count": 50,
   "metadata": {},
   "outputs": [],
   "source": [
    "for row in check.itertuples():\n",
    "    mycursor.execute(''' INSERT INTO TestDB.check1 (fruits, fruits) VALUES (?,?) ''', row.fruits, row.drinks)\n",
    "connection.commit()"
   ]
  },
  {
   "cell_type": "code",
   "execution_count": null,
   "metadata": {},
   "outputs": [],
   "source": [
    "check"
   ]
  }
 ],
 "metadata": {
  "kernelspec": {
   "display_name": "Python 3",
   "language": "python",
   "name": "python3"
  },
  "language_info": {
   "codemirror_mode": {
    "name": "ipython",
    "version": 3
   },
   "file_extension": ".py",
   "mimetype": "text/x-python",
   "name": "python",
   "nbconvert_exporter": "python",
   "pygments_lexer": "ipython3",
   "version": "3.7.3"
  }
 },
 "nbformat": 4,
 "nbformat_minor": 2
}
